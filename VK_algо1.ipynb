{
  "nbformat": 4,
  "nbformat_minor": 0,
  "metadata": {
    "colab": {
      "provenance": []
    },
    "kernelspec": {
      "name": "python3",
      "display_name": "Python 3"
    },
    "language_info": {
      "name": "python"
    }
  },
  "cells": [
    {
      "cell_type": "markdown",
      "source": [
        "Привет, так как алгосы пока простые, пишу на питоне, и мне показалось удобным писать их в гугл колабе."
      ],
      "metadata": {
        "id": "_tLgZTGe6mOe"
      }
    },
    {
      "cell_type": "markdown",
      "source": [
        "**Two Sum**"
      ],
      "metadata": {
        "id": "88x8pmv5615l"
      }
    },
    {
      "cell_type": "code",
      "source": [
        "def twoSum(nums, target):\n",
        "    left = 0\n",
        "    right = len(nums) - 1\n",
        "    while left < right:\n",
        "        sum = nums[left] + nums[right]\n",
        "        if sum == target:\n",
        "            return [left, right]\n",
        "        if sum < target:\n",
        "            left += 1\n",
        "        else:\n",
        "            right -= 1\n",
        "    return[-1, -1]\n",
        "nums = list(map(int, input().split()))\n",
        "target = int(input())\n",
        "res = twoSum(nums, target)\n",
        "if res == [-1, -1]:\n",
        "    print('not found')\n",
        "else:\n",
        "    print(nums[res[0]], nums[res[1]])\n",
        "\n",
        ""
      ],
      "metadata": {
        "colab": {
          "base_uri": "https://localhost:8080/"
        },
        "id": "qVbY9Mtf65Z1",
        "outputId": "840d9638-0205-491c-bf48-a98c1e38c90f"
      },
      "execution_count": 1,
      "outputs": [
        {
          "output_type": "stream",
          "name": "stdout",
          "text": [
            "3 8 9 11 16 18 19 21\n",
            "25\n",
            "9 16\n"
          ]
        }
      ]
    },
    {
      "cell_type": "markdown",
      "source": [
        "**Развернуть массив**"
      ],
      "metadata": {
        "id": "OjhGAD8v8u_L"
      }
    },
    {
      "cell_type": "code",
      "source": [
        "def reverse(arr):\n",
        "    left = 0\n",
        "    right = len(arr) - 1\n",
        "    while left < right:\n",
        "        arr[left], arr[right] = arr[right], arr[left]\n",
        "        left += 1\n",
        "        right -= 1\n",
        "    return arr\n",
        "arr = list(map(int, input().split()))\n",
        "arr = reverse(arr)\n",
        "arr"
      ],
      "metadata": {
        "colab": {
          "base_uri": "https://localhost:8080/"
        },
        "id": "CDUvtait89VQ",
        "outputId": "7be6ad1f-1e19-4244-bc6a-9375dae888fd"
      },
      "execution_count": 2,
      "outputs": [
        {
          "name": "stdout",
          "output_type": "stream",
          "text": [
            "3 8 9 11 16 18 19 21\n"
          ]
        },
        {
          "output_type": "execute_result",
          "data": {
            "text/plain": [
              "[21, 19, 18, 16, 11, 9, 8, 3]"
            ]
          },
          "metadata": {},
          "execution_count": 2
        }
      ]
    },
    {
      "cell_type": "markdown",
      "source": [
        "**Развернуть часть массива**"
      ],
      "metadata": {
        "id": "Fpg1jQUK99Qo"
      }
    },
    {
      "cell_type": "code",
      "source": [
        "def reverse(arr, left, right):\n",
        "    while left < right:\n",
        "        arr[left], arr[right] = arr[right], arr[left]\n",
        "        left += 1\n",
        "        right -= 1\n",
        "    return arr\n",
        "\n",
        "def reversePart(arr, k):\n",
        "    n = len(arr)\n",
        "\n",
        "    reverse(arr, 0, len(arr) - 1)\n",
        "    reverse(arr, 0, k - 1)\n",
        "    reverse(arr, k, len(arr) - 1)\n",
        "\n",
        "    return arr\n",
        "arr = list(map(int, input().split()))\n",
        "k = int(input())\n",
        "arr = reversePart(arr, k)\n",
        "arr"
      ],
      "metadata": {
        "colab": {
          "base_uri": "https://localhost:8080/"
        },
        "id": "qOkLzrXk-B3r",
        "outputId": "47665a5a-85d4-4b51-eb14-5bcd3a0b743a"
      },
      "execution_count": 3,
      "outputs": [
        {
          "name": "stdout",
          "output_type": "stream",
          "text": [
            "1 2 3 4 5 6 7\n",
            "4\n"
          ]
        },
        {
          "output_type": "execute_result",
          "data": {
            "text/plain": [
              "[4, 5, 6, 7, 1, 2, 3]"
            ]
          },
          "metadata": {},
          "execution_count": 3
        }
      ]
    },
    {
      "cell_type": "markdown",
      "source": [
        "**Merge_1**"
      ],
      "metadata": {
        "id": "7HdWqqGJ_isI"
      }
    },
    {
      "cell_type": "code",
      "source": [
        "def Merge(arr1, arr2):\n",
        "    arr = []\n",
        "    i = 0\n",
        "    j = 0\n",
        "    len1 = len(arr1)\n",
        "    len2 = len(arr2)\n",
        "\n",
        "    while (i < len1 and j < len2):\n",
        "        if arr1[i] < arr2[j]:\n",
        "            arr.append(arr1[i])\n",
        "            i += 1\n",
        "        else:\n",
        "            arr.append(arr2[j])\n",
        "            j += 1\n",
        "    for t1 in range(i, len1):\n",
        "        arr.append(arr1[t1])\n",
        "    for t2 in range(j, len2):\n",
        "        arr.append(arr2[t2])\n",
        "\n",
        "    return arr\n",
        "\n",
        "arr1 = list(map(int, input().split()))\n",
        "arr2 = list(map(int, input().split()))\n",
        "\n",
        "Merge(arr1, arr2)\n"
      ],
      "metadata": {
        "colab": {
          "base_uri": "https://localhost:8080/"
        },
        "id": "wqk9Dq2z_v0e",
        "outputId": "89c8ab40-f71d-41ad-bbb3-2098b2442d3f"
      },
      "execution_count": 8,
      "outputs": [
        {
          "name": "stdout",
          "output_type": "stream",
          "text": [
            "3 8 10 11\n",
            "1 7 9\n"
          ]
        },
        {
          "output_type": "execute_result",
          "data": {
            "text/plain": [
              "[1, 3, 7, 8, 9, 10, 11]"
            ]
          },
          "metadata": {},
          "execution_count": 8
        }
      ]
    },
    {
      "cell_type": "markdown",
      "source": [
        "**Merge_2**"
      ],
      "metadata": {
        "id": "xftXdWEJCaO8"
      }
    },
    {
      "cell_type": "code",
      "source": [
        "def InPlaceMerge(arr1, arr2):\n",
        "    p1 = len(arr1) - len(arr2) - 1\n",
        "    p2 = len(arr2) - 1\n",
        "    p3 = len(arr1) - 1\n",
        "\n",
        "    while p2 >= 0:\n",
        "        if p1 >= 0 and arr1[p1] > arr2[p2]:\n",
        "            arr1[p3] = arr1[p1]\n",
        "            p1 -= 1\n",
        "        else:\n",
        "            arr1[p3] = arr2[p2]\n",
        "            p2 -= 1\n",
        "        p3 -= 1\n",
        "    return arr1\n",
        "\n",
        "arr1 = list(map(int, input().split()))\n",
        "arr2 = list(map(int, input().split()))\n",
        "\n",
        "InPlaceMerge(arr1, arr2)"
      ],
      "metadata": {
        "colab": {
          "base_uri": "https://localhost:8080/"
        },
        "id": "FqHSYCLnCkEn",
        "outputId": "92f578d3-d7d8-42e2-b40c-0a365f931c11"
      },
      "execution_count": 10,
      "outputs": [
        {
          "name": "stdout",
          "output_type": "stream",
          "text": [
            "3 8 10 11 0 0 0\n",
            "1 7 9\n"
          ]
        },
        {
          "output_type": "execute_result",
          "data": {
            "text/plain": [
              "[1, 3, 7, 8, 9, 10, 11]"
            ]
          },
          "metadata": {},
          "execution_count": 10
        }
      ]
    },
    {
      "cell_type": "markdown",
      "source": [
        "**Сортировка 0 и 1**"
      ],
      "metadata": {
        "id": "-OCnsXi9EyCq"
      }
    },
    {
      "cell_type": "code",
      "source": [
        "def BinSort(arr):\n",
        "    left = 0\n",
        "    right = len(arr) - 1\n",
        "\n",
        "    while left < right:\n",
        "        if arr[left] == 1:\n",
        "            arr[left], arr[right] = arr[right], arr[left]\n",
        "            right -= 1\n",
        "        else:\n",
        "            left += 1\n",
        "    return arr\n",
        "\n",
        "arr = list(map(int, input().split()))\n",
        "\n",
        "BinSort(arr)"
      ],
      "metadata": {
        "colab": {
          "base_uri": "https://localhost:8080/"
        },
        "id": "ldKRN6b5E9dH",
        "outputId": "d4514380-6406-4044-eed0-2a110674b0cb"
      },
      "execution_count": 11,
      "outputs": [
        {
          "name": "stdout",
          "output_type": "stream",
          "text": [
            "0 1 1 0 1 0 1 0\n"
          ]
        },
        {
          "output_type": "execute_result",
          "data": {
            "text/plain": [
              "[0, 0, 0, 0, 1, 1, 1, 1]"
            ]
          },
          "metadata": {},
          "execution_count": 11
        }
      ]
    },
    {
      "cell_type": "markdown",
      "source": [
        "**Сортировка 0 1 2**"
      ],
      "metadata": {
        "id": "RLZc4PANGx4h"
      }
    },
    {
      "cell_type": "code",
      "source": [
        "def ColorSort(arr):\n",
        "    low = 0\n",
        "    mid = 0\n",
        "    high = len(arr) - 1\n",
        "\n",
        "    while mid <= high:\n",
        "          if arr[mid] == 0:\n",
        "              arr[low], arr[mid] = arr[mid], arr[low]\n",
        "              low += 1\n",
        "              mid += 1\n",
        "          elif arr[mid] == 2:\n",
        "              arr[mid], arr[high] = arr[high], arr[mid]\n",
        "              high -= 1\n",
        "          else:\n",
        "              mid += 1\n",
        "\n",
        "    return arr\n",
        "\n",
        "arr = list(map(int, input().split()))\n",
        "\n",
        "ColorSort(arr)\n"
      ],
      "metadata": {
        "colab": {
          "base_uri": "https://localhost:8080/"
        },
        "id": "fGIfNzkDG2h4",
        "outputId": "e3578297-2846-4113-9f2e-930c547a4826"
      },
      "execution_count": 21,
      "outputs": [
        {
          "name": "stdout",
          "output_type": "stream",
          "text": [
            "0 0 2 1 1 2\n"
          ]
        },
        {
          "output_type": "execute_result",
          "data": {
            "text/plain": [
              "[0, 0, 1, 1, 2, 2]"
            ]
          },
          "metadata": {},
          "execution_count": 21
        }
      ]
    },
    {
      "cell_type": "markdown",
      "source": [
        "**Четные вперёд**"
      ],
      "metadata": {
        "id": "b0O7HMH4Kq5X"
      }
    },
    {
      "cell_type": "code",
      "source": [
        "def EvenFirst(arr):\n",
        "    even_i = 0\n",
        "    for i in range(len(arr)):\n",
        "        if arr[i] % 2 == 0:\n",
        "            arr[i], arr[even_i] = arr[even_i], arr[i]\n",
        "            even_i += 1\n",
        "    return arr\n",
        "arr = list(map(int, input().split()))\n",
        "\n",
        "EvenFirst(arr)"
      ],
      "metadata": {
        "colab": {
          "base_uri": "https://localhost:8080/"
        },
        "id": "JDvzlsncK96z",
        "outputId": "4efa23cf-5901-497f-eb68-d95d4230fd60"
      },
      "execution_count": 22,
      "outputs": [
        {
          "name": "stdout",
          "output_type": "stream",
          "text": [
            "3 2 4 1 11 8 9\n"
          ]
        },
        {
          "output_type": "execute_result",
          "data": {
            "text/plain": [
              "[2, 4, 8, 1, 11, 3, 9]"
            ]
          },
          "metadata": {},
          "execution_count": 22
        }
      ]
    },
    {
      "cell_type": "markdown",
      "source": [
        "**Нули в конец**"
      ],
      "metadata": {
        "id": "oUyYANrTMGAh"
      }
    },
    {
      "cell_type": "code",
      "source": [
        "def ZeroEnd(arr):\n",
        "    zero_i = 0\n",
        "    for i in range(len(arr)):\n",
        "        if arr[i] != 0:\n",
        "            arr[i], arr[zero_i] = arr[zero_i], arr[i]\n",
        "            zero_i += 1\n",
        "    return arr\n",
        "arr = list(map(int, input().split()))\n",
        "\n",
        "ZeroEnd(arr)"
      ],
      "metadata": {
        "colab": {
          "base_uri": "https://localhost:8080/"
        },
        "id": "eOqRS1evMK15",
        "outputId": "6161702f-4fbf-456f-e19b-068077bf7606"
      },
      "execution_count": 40,
      "outputs": [
        {
          "name": "stdout",
          "output_type": "stream",
          "text": [
            "0 0 0 18 16 0 0 77 99\n"
          ]
        },
        {
          "output_type": "execute_result",
          "data": {
            "text/plain": [
              "[18, 16, 77, 99, 0, 0, 0, 0, 0]"
            ]
          },
          "metadata": {},
          "execution_count": 40
        }
      ]
    }
  ]
}