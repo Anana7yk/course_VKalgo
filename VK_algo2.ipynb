{
  "nbformat": 4,
  "nbformat_minor": 0,
  "metadata": {
    "colab": {
      "provenance": []
    },
    "kernelspec": {
      "name": "python3",
      "display_name": "Python 3"
    },
    "language_info": {
      "name": "python"
    }
  },
  "cells": [
    {
      "cell_type": "markdown",
      "source": [
        "**Проверить, есть ли цикл в списке**"
      ],
      "metadata": {
        "id": "88x8pmv5615l"
      }
    },
    {
      "cell_type": "code",
      "source": [
        "class Node:\n",
        "    def __init__(self, val=0, next=None):\n",
        "        self.val = val\n",
        "        self.next = next\n",
        "\n",
        "def hasCycle(head):\n",
        "    if not head or not head.next:\n",
        "        return False\n",
        "    slow = head\n",
        "    fast = head.next\n",
        "    while slow != fast:\n",
        "        if not fast or not fast.next:\n",
        "            return False\n",
        "        slow = slow.next\n",
        "        fast = fast.next.next\n",
        "    return True\n",
        "\n",
        "\n",
        "n1 = Node(1)\n",
        "n2 = Node(2)\n",
        "n3 = Node(3)\n",
        "n4 = Node(4)\n",
        "n1.next = n2\n",
        "n2.next = n3\n",
        "n3.next = n4\n",
        "n4.next = n2\n",
        "\n",
        "print(hasCycle(n1))\n",
        "\n",
        "n5 = Node(5)\n",
        "n6 = Node(6)\n",
        "n5.next = n6\n",
        "print(hasCycle(n5))"
      ],
      "metadata": {
        "colab": {
          "base_uri": "https://localhost:8080/"
        },
        "id": "pXvY9Mtf65Z1",
        "outputId": "4a125511-c669-4d80-9d4b-04b2b7da1f72"
      },
      "execution_count": 28,
      "outputs": [
        {
          "output_type": "stream",
          "name": "stdout",
          "text": [
            "True\n",
            "False\n"
          ]
        }
      ]
    },
    {
      "cell_type": "markdown",
      "source": [
        "**Развернуть односвязный список**"
      ],
      "metadata": {
        "id": "OjhGAD8v8u_L"
      }
    },
    {
      "cell_type": "code",
      "source": [
        "def reverseList(head):\n",
        "    prev = None\n",
        "    curr = head\n",
        "    while curr:\n",
        "        next_node = curr.next\n",
        "        curr.next = prev\n",
        "        prev = curr\n",
        "        curr = next_node\n",
        "    return prev\n",
        "\n",
        "def printList(head):\n",
        "    while head:\n",
        "        print(head.val, end=\" \")\n",
        "        head = head.next\n",
        "    print()\n",
        "\n",
        "n1 = Node(1)\n",
        "n2 = Node(2)\n",
        "n3 = Node(3)\n",
        "n1.next = n2\n",
        "n2.next = n3\n",
        "\n",
        "printList(n1)\n",
        "\n",
        "reversed_head = reverseList(n1)\n",
        "printList(reversed_head)"
      ],
      "metadata": {
        "colab": {
          "base_uri": "https://localhost:8080/"
        },
        "id": "CDUvtait89VQ",
        "outputId": "5bdb4db0-4da9-4db5-f5f4-d25c33f7bb8c"
      },
      "execution_count": 29,
      "outputs": [
        {
          "output_type": "stream",
          "name": "stdout",
          "text": [
            "1 2 3 \n",
            "3 2 1 \n"
          ]
        }
      ]
    },
    {
      "cell_type": "markdown",
      "source": [
        "**Найти середину списка**"
      ],
      "metadata": {
        "id": "Fpg1jQUK99Qo"
      }
    },
    {
      "cell_type": "code",
      "source": [
        "def middleNode(head):\n",
        "    slow = fast = head\n",
        "    while fast and fast.next:\n",
        "        slow = slow.next\n",
        "        fast = fast.next.next\n",
        "    return slow\n",
        "\n",
        "n1 = Node(1)\n",
        "n2 = Node(2)\n",
        "n3 = Node(3)\n",
        "n4 = Node(4)\n",
        "n5 = Node(5)\n",
        "n1.next = n2\n",
        "n2.next = n3\n",
        "n3.next = n4\n",
        "n4.next = n5\n",
        "\n",
        "mid = middleNode(n1)\n",
        "print(mid.val)\n"
      ],
      "metadata": {
        "colab": {
          "base_uri": "https://localhost:8080/"
        },
        "id": "qOkLzrXk-B3r",
        "outputId": "d23b4719-dacb-4466-99e3-732f8bb24e6d"
      },
      "execution_count": 30,
      "outputs": [
        {
          "output_type": "stream",
          "name": "stdout",
          "text": [
            "3\n"
          ]
        }
      ]
    },
    {
      "cell_type": "markdown",
      "source": [
        "**Удалить все узлы с заданным значением**"
      ],
      "metadata": {
        "id": "7HdWqqGJ_isI"
      }
    },
    {
      "cell_type": "code",
      "source": [
        "def removeValue(head, val):\n",
        "    dummy = Node(0)\n",
        "    dummy.next = head\n",
        "    prev = dummy\n",
        "    curr = head\n",
        "    while curr:\n",
        "        if curr.val == val:\n",
        "            prev.next = curr.next\n",
        "        else:\n",
        "            prev = curr\n",
        "        curr = curr.next\n",
        "    return dummy.next\n",
        "\n",
        "n1 = Node(1)\n",
        "n2 = Node(2)\n",
        "n3 = Node(2)\n",
        "n4 = Node(3)\n",
        "n1.next = n2\n",
        "n2.next = n3\n",
        "n3.next = n4\n",
        "\n",
        "printList(n1)\n",
        "\n",
        "new_head = removeValue(n1, 2)\n",
        "printList(new_head)"
      ],
      "metadata": {
        "colab": {
          "base_uri": "https://localhost:8080/"
        },
        "id": "wqk9Dq2z_v0e",
        "outputId": "e1e7154d-763f-4544-e3d8-a2c92109b2fd"
      },
      "execution_count": 31,
      "outputs": [
        {
          "output_type": "stream",
          "name": "stdout",
          "text": [
            "1 2 2 3 \n",
            "1 3 \n"
          ]
        }
      ]
    },
    {
      "cell_type": "markdown",
      "source": [
        "**Проверить, является ли строка a подпоследовательностью строки b**"
      ],
      "metadata": {
        "id": "xftXdWEJCaO8"
      }
    },
    {
      "cell_type": "code",
      "source": [
        "from collections import deque\n",
        "\n",
        "def isSubseqQueue(a, b):\n",
        "    q = deque(a)\n",
        "    for char in b:\n",
        "        if q and q[0] == char:\n",
        "            q.popleft()\n",
        "    return len(q) == 0\n",
        "\n",
        "def isSubseq(a, b):\n",
        "    i = j = 0\n",
        "    while i < len(a) and j < len(b):\n",
        "        if a[i] == b[j]:\n",
        "            i += 1\n",
        "        j += 1\n",
        "    return i == len(a)\n",
        "\n",
        "print(isSubseq(\"abc\", \"ahbgdc\"))\n",
        "print(isSubseq(\"axc\", \"ahbgdc\"))\n",
        "print(isSubseqQueue(\"abc\", \"ahbgdc\"))"
      ],
      "metadata": {
        "colab": {
          "base_uri": "https://localhost:8080/"
        },
        "id": "FqHSYCLnCkEn",
        "outputId": "9e012f3c-13c3-43de-deac-c28fd1c40c16"
      },
      "execution_count": 32,
      "outputs": [
        {
          "output_type": "stream",
          "name": "stdout",
          "text": [
            "True\n",
            "False\n",
            "True\n"
          ]
        }
      ]
    },
    {
      "cell_type": "markdown",
      "source": [
        "**Проверить, является ли слово палиндромом**"
      ],
      "metadata": {
        "id": "-OCnsXi9EyCq"
      }
    },
    {
      "cell_type": "code",
      "source": [
        "def isPalindromeStack(s):\n",
        "    stack = []\n",
        "    for char in s:\n",
        "        stack.append(char)\n",
        "    for char in s:\n",
        "        if char != stack.pop():\n",
        "            return False\n",
        "    return True\n",
        "\n",
        "def isPalindrome(s):\n",
        "    left = 0\n",
        "    right = len(s) - 1\n",
        "    while left < right:\n",
        "        if s[left] != s[right]:\n",
        "            return False\n",
        "        left += 1\n",
        "        right -= 1\n",
        "    return True\n",
        "\n",
        "print(isPalindrome(\"радар\"))\n",
        "print(isPalindrome(\"привет\"))\n",
        "print(isPalindromeStack(\"радар\"))"
      ],
      "metadata": {
        "colab": {
          "base_uri": "https://localhost:8080/"
        },
        "id": "ldKRN6b5E9dH",
        "outputId": "364af0cd-b45a-4f92-a589-57a10ea28747"
      },
      "execution_count": 33,
      "outputs": [
        {
          "output_type": "stream",
          "name": "stdout",
          "text": [
            "True\n",
            "False\n",
            "True\n"
          ]
        }
      ]
    },
    {
      "cell_type": "markdown",
      "source": [
        "**Слияние двух отсортированных списков**"
      ],
      "metadata": {
        "id": "RLZc4PANGx4h"
      }
    },
    {
      "cell_type": "code",
      "source": [
        "def mergeLists(l1, l2):\n",
        "    dummy = Node()\n",
        "    tail = dummy\n",
        "    while l1 and l2:\n",
        "        if l1.val < l2.val:\n",
        "            tail.next = l1\n",
        "            l1 = l1.next\n",
        "        else:\n",
        "            tail.next = l2\n",
        "            l2 = l2.next\n",
        "        tail = tail.next\n",
        "    tail.next = l1 if l1 else l2\n",
        "    return dummy.next\n",
        "\n",
        "\n",
        "list1 = Node(3)\n",
        "list1.next = Node(6)\n",
        "list1.next.next = Node(8)\n",
        "\n",
        "list2 = Node(4)\n",
        "list2.next = Node(7)\n",
        "list2.next.next = Node(9)\n",
        "list2.next.next.next = Node(11)\n",
        "\n",
        "merged = mergeLists(list1, list2)\n",
        "printList(merged)"
      ],
      "metadata": {
        "colab": {
          "base_uri": "https://localhost:8080/"
        },
        "id": "fGIfNzkDG2h4",
        "outputId": "5990790d-c34f-42ab-d20c-130fd827f063"
      },
      "execution_count": 34,
      "outputs": [
        {
          "output_type": "stream",
          "name": "stdout",
          "text": [
            "3 4 6 7 8 9 11 \n"
          ]
        }
      ]
    }
  ]
}